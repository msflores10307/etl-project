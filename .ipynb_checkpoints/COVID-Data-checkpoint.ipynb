{
 "cells": [
  {
   "cell_type": "code",
   "execution_count": 1,
   "metadata": {},
   "outputs": [],
   "source": [
    "import pandas as pd"
   ]
  },
  {
   "cell_type": "code",
   "execution_count": 2,
   "metadata": {},
   "outputs": [],
   "source": [
    "raw = pd.read_csv('./Food_Supply_kcal_Data.csv')"
   ]
  },
  {
   "cell_type": "code",
   "execution_count": 5,
   "metadata": {},
   "outputs": [
    {
     "data": {
      "text/plain": [
       "Country                          object\n",
       "Alcoholic Beverages             float64\n",
       "Animal Products                 float64\n",
       "Animal fats                     float64\n",
       "Aquatic Products, Other         float64\n",
       "Cereals - Excluding Beer        float64\n",
       "Eggs                            float64\n",
       "Fish, Seafood                   float64\n",
       "Fruits - Excluding Wine         float64\n",
       "Meat                            float64\n",
       "Milk - Excluding Butter         float64\n",
       "Miscellaneous                   float64\n",
       "Offals                          float64\n",
       "Oilcrops                        float64\n",
       "Pulses                          float64\n",
       "Spices                          float64\n",
       "Starchy Roots                   float64\n",
       "Stimulants                      float64\n",
       "Sugar Crops                     float64\n",
       "Sugar & Sweeteners              float64\n",
       "Treenuts                        float64\n",
       "Vegetal Products                float64\n",
       "Vegetable Oils                  float64\n",
       "Vegetables                      float64\n",
       "Obesity                         float64\n",
       "Undernourished                   object\n",
       "Confirmed                       float64\n",
       "Deaths                          float64\n",
       "Recovered                       float64\n",
       "Active                          float64\n",
       "Population                      float64\n",
       "Unit (all except Population)     object\n",
       "dtype: object"
      ]
     },
     "execution_count": 5,
     "metadata": {},
     "output_type": "execute_result"
    }
   ],
   "source": [
    "raw.dtypes"
   ]
  },
  {
   "cell_type": "code",
   "execution_count": 14,
   "metadata": {},
   "outputs": [
    {
     "data": {
      "text/html": [
       "<div>\n",
       "<style scoped>\n",
       "    .dataframe tbody tr th:only-of-type {\n",
       "        vertical-align: middle;\n",
       "    }\n",
       "\n",
       "    .dataframe tbody tr th {\n",
       "        vertical-align: top;\n",
       "    }\n",
       "\n",
       "    .dataframe thead th {\n",
       "        text-align: right;\n",
       "    }\n",
       "</style>\n",
       "<table border=\"1\" class=\"dataframe\">\n",
       "  <thead>\n",
       "    <tr style=\"text-align: right;\">\n",
       "      <th></th>\n",
       "      <th>0</th>\n",
       "    </tr>\n",
       "  </thead>\n",
       "  <tbody>\n",
       "  </tbody>\n",
       "</table>\n",
       "</div>"
      ],
      "text/plain": [
       "Empty DataFrame\n",
       "Columns: [0]\n",
       "Index: []"
      ]
     },
     "execution_count": 14,
     "metadata": {},
     "output_type": "execute_result"
    }
   ],
   "source": [
    "dupesearch = pd.DataFrame(raw.duplicated('Country'))\n",
    "dupesearch.loc[dupesearch[0]==True] # shows no duplicates in data"
   ]
  }
 ],
 "metadata": {
  "kernelspec": {
   "display_name": "Python [conda env:PythonData]",
   "language": "python",
   "name": "conda-env-PythonData-py"
  },
  "language_info": {
   "codemirror_mode": {
    "name": "ipython",
    "version": 3
   },
   "file_extension": ".py",
   "mimetype": "text/x-python",
   "name": "python",
   "nbconvert_exporter": "python",
   "pygments_lexer": "ipython3",
   "version": "3.6.10"
  }
 },
 "nbformat": 4,
 "nbformat_minor": 4
}
